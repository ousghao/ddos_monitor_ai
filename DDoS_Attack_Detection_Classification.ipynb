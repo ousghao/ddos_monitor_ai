{
  "metadata": {
    "kernelspec": {
      "language": "python",
      "display_name": "Python 3",
      "name": "python3"
    },
    "language_info": {
      "pygments_lexer": "ipython3",
      "nbconvert_exporter": "python",
      "version": "3.6.4",
      "file_extension": ".py",
      "codemirror_mode": {
        "name": "ipython",
        "version": 3
      },
      "name": "python",
      "mimetype": "text/x-python"
    },
    "kaggle": {
      "accelerator": "none",
      "dataSources": [
        {
          "sourceId": 2929393,
          "sourceType": "datasetVersion",
          "datasetId": 1795814
        }
      ],
      "dockerImageVersionId": 30152,
      "isInternetEnabled": true,
      "language": "python",
      "sourceType": "notebook",
      "isGpuEnabled": false
    },
    "colab": {
      "name": "DDoS Attack Detection Classification",
      "provenance": []
    }
  },
  "nbformat_minor": 0,
  "nbformat": 4,
  "cells": [
    {
      "source": [
        "# IMPORTANT: RUN THIS CELL IN ORDER TO IMPORT YOUR KAGGLE DATA SOURCES,\n",
        "# THEN FEEL FREE TO DELETE THIS CELL.\n",
        "# NOTE: THIS NOTEBOOK ENVIRONMENT DIFFERS FROM KAGGLE'S PYTHON\n",
        "# ENVIRONMENT SO THERE MAY BE MISSING LIBRARIES USED BY YOUR\n",
        "# NOTEBOOK.\n",
        "import kagglehub\n",
        "aikenkazin_ddos_sdn_dataset_path = kagglehub.dataset_download('aikenkazin/ddos-sdn-dataset')\n",
        "\n",
        "print('Data source import complete.')\n"
      ],
      "metadata": {
        "id": "Q53HqSL9OIX6"
      },
      "cell_type": "code",
      "outputs": [],
      "execution_count": null
    },
    {
      "cell_type": "code",
      "source": [
        "import pandas as pd\n",
        "import numpy as np\n",
        "\n",
        "import matplotlib.pyplot as plt\n",
        "from matplotlib.pyplot import figure\n",
        "import seaborn as sns\n",
        "\n",
        "from sklearn.metrics import confusion_matrix\n",
        "from sklearn.metrics import accuracy_score\n",
        "from sklearn.metrics import classification_report\n",
        "from sklearn.model_selection import train_test_split\n",
        "from sklearn import metrics\n",
        "from sklearn.model_selection import cross_val_score\n",
        "from sklearn import preprocessing\n",
        "\n",
        "from sklearn.model_selection import cross_val_predict\n",
        "from sklearn.model_selection import GridSearchCV\n",
        "import time\n",
        "\n",
        "from sklearn.tree import DecisionTreeClassifier\n",
        "from sklearn.linear_model import LogisticRegression\n",
        "from sklearn import svm\n",
        "from sklearn.neighbors import KNeighborsClassifier\n",
        "from sklearn.ensemble import RandomForestClassifier\n",
        "\n",
        "from sklearn import metrics"
      ],
      "metadata": {
        "execution": {
          "iopub.status.busy": "2021-12-24T18:01:39.301215Z",
          "iopub.execute_input": "2021-12-24T18:01:39.301759Z",
          "iopub.status.idle": "2021-12-24T18:01:40.688932Z",
          "shell.execute_reply.started": "2021-12-24T18:01:39.301638Z",
          "shell.execute_reply": "2021-12-24T18:01:40.688141Z"
        },
        "trusted": true,
        "id": "OP6faEutOIX7"
      },
      "execution_count": null,
      "outputs": []
    },
    {
      "cell_type": "code",
      "source": [
        "data = pd.read_csv('../input/ddos-sdn-dataset/dataset_sdn.csv')"
      ],
      "metadata": {
        "execution": {
          "iopub.status.busy": "2021-12-24T18:02:32.516184Z",
          "iopub.execute_input": "2021-12-24T18:02:32.516454Z",
          "iopub.status.idle": "2021-12-24T18:02:32.956235Z",
          "shell.execute_reply.started": "2021-12-24T18:02:32.516425Z",
          "shell.execute_reply": "2021-12-24T18:02:32.955019Z"
        },
        "trusted": true,
        "id": "eOdzmwULOIX7"
      },
      "execution_count": null,
      "outputs": []
    },
    {
      "cell_type": "code",
      "source": [],
      "metadata": {
        "id": "SEc3SXanOIX8"
      },
      "execution_count": null,
      "outputs": []
    },
    {
      "cell_type": "markdown",
      "source": [
        "#### I .Data Analysis"
      ],
      "metadata": {
        "id": "7pJsChfROIX8"
      }
    },
    {
      "cell_type": "code",
      "source": [
        "data.head()"
      ],
      "metadata": {
        "execution": {
          "iopub.status.busy": "2021-12-24T18:02:35.60435Z",
          "iopub.execute_input": "2021-12-24T18:02:35.604646Z",
          "iopub.status.idle": "2021-12-24T18:02:35.641048Z",
          "shell.execute_reply.started": "2021-12-24T18:02:35.604614Z",
          "shell.execute_reply": "2021-12-24T18:02:35.640218Z"
        },
        "trusted": true,
        "id": "kDfzsGdsOIX-"
      },
      "execution_count": null,
      "outputs": []
    },
    {
      "cell_type": "code",
      "source": [
        "data.shape"
      ],
      "metadata": {
        "execution": {
          "iopub.status.busy": "2021-12-24T18:02:36.116601Z",
          "iopub.execute_input": "2021-12-24T18:02:36.116881Z",
          "iopub.status.idle": "2021-12-24T18:02:36.122963Z",
          "shell.execute_reply.started": "2021-12-24T18:02:36.116853Z",
          "shell.execute_reply": "2021-12-24T18:02:36.122086Z"
        },
        "trusted": true,
        "id": "JVDUQ_CVOIX-"
      },
      "execution_count": null,
      "outputs": []
    },
    {
      "cell_type": "code",
      "source": [
        "data.info()"
      ],
      "metadata": {
        "execution": {
          "iopub.status.busy": "2021-12-24T18:02:36.805259Z",
          "iopub.execute_input": "2021-12-24T18:02:36.805553Z",
          "iopub.status.idle": "2021-12-24T18:02:36.869776Z",
          "shell.execute_reply.started": "2021-12-24T18:02:36.80552Z",
          "shell.execute_reply": "2021-12-24T18:02:36.868835Z"
        },
        "trusted": true,
        "id": "v1ylfWqTOIX_"
      },
      "execution_count": null,
      "outputs": []
    },
    {
      "cell_type": "code",
      "source": [
        "##### Here we see that the label contains boolean values: 0 - Benign, 1-Maliciuous\n",
        "data.label.unique()"
      ],
      "metadata": {
        "execution": {
          "iopub.status.busy": "2021-12-24T18:02:38.133475Z",
          "iopub.execute_input": "2021-12-24T18:02:38.13374Z",
          "iopub.status.idle": "2021-12-24T18:02:38.140458Z",
          "shell.execute_reply.started": "2021-12-24T18:02:38.133712Z",
          "shell.execute_reply": "2021-12-24T18:02:38.139595Z"
        },
        "trusted": true,
        "id": "rKcRFFsYOIX_"
      },
      "execution_count": null,
      "outputs": []
    },
    {
      "cell_type": "code",
      "source": [
        "data.label.value_counts()"
      ],
      "metadata": {
        "execution": {
          "iopub.status.busy": "2021-12-24T18:02:38.475209Z",
          "iopub.execute_input": "2021-12-24T18:02:38.475506Z",
          "iopub.status.idle": "2021-12-24T18:02:38.483644Z",
          "shell.execute_reply.started": "2021-12-24T18:02:38.475474Z",
          "shell.execute_reply": "2021-12-24T18:02:38.483053Z"
        },
        "trusted": true,
        "id": "Jk-IdWroOIYA"
      },
      "execution_count": null,
      "outputs": []
    },
    {
      "cell_type": "code",
      "source": [
        "label_dict = dict(data.label.value_counts())\n",
        "sns.countplot(data.label)"
      ],
      "metadata": {
        "execution": {
          "iopub.status.busy": "2021-12-24T18:02:38.885317Z",
          "iopub.execute_input": "2021-12-24T18:02:38.886014Z",
          "iopub.status.idle": "2021-12-24T18:02:39.103601Z",
          "shell.execute_reply.started": "2021-12-24T18:02:38.885963Z",
          "shell.execute_reply": "2021-12-24T18:02:39.102658Z"
        },
        "trusted": true,
        "id": "2_kWiJSPOIYA"
      },
      "execution_count": null,
      "outputs": []
    },
    {
      "cell_type": "code",
      "source": [
        "labels = [\"Maliciuous\",'Benign']\n",
        "sizes = [dict(data.label.value_counts())[0], dict(data.label.value_counts())[1]]\n",
        "plt.figure(figsize = (13,8))\n",
        "plt.pie(sizes, labels=labels, autopct='%1.1f%%',\n",
        "        shadow=True, startangle=90)\n",
        "plt.legend([\"Maliciuous\", \"Benign\"])\n",
        "plt.title('The percentage of Benign and Maliciuos Requests in dataset')\n",
        "plt.show()"
      ],
      "metadata": {
        "execution": {
          "iopub.status.busy": "2021-12-24T18:02:39.55632Z",
          "iopub.execute_input": "2021-12-24T18:02:39.556577Z",
          "iopub.status.idle": "2021-12-24T18:02:39.780356Z",
          "shell.execute_reply.started": "2021-12-24T18:02:39.55655Z",
          "shell.execute_reply": "2021-12-24T18:02:39.779483Z"
        },
        "trusted": true,
        "id": "KUwB1XmvOIYA"
      },
      "execution_count": null,
      "outputs": []
    },
    {
      "cell_type": "code",
      "source": [
        "data.describe()"
      ],
      "metadata": {
        "execution": {
          "iopub.status.busy": "2021-12-24T18:02:39.812448Z",
          "iopub.execute_input": "2021-12-24T18:02:39.813282Z",
          "iopub.status.idle": "2021-12-24T18:02:39.926735Z",
          "shell.execute_reply.started": "2021-12-24T18:02:39.813245Z",
          "shell.execute_reply": "2021-12-24T18:02:39.926189Z"
        },
        "trusted": true,
        "id": "HnbKeornOIYB"
      },
      "execution_count": null,
      "outputs": []
    },
    {
      "cell_type": "code",
      "source": [
        "# Let's look at the vizualisation of Null valued features\n",
        "figure(figsize=(9, 5), dpi=80)\n",
        "data[data.columns[data.isna().sum() >= 0]].isna().sum().sort_values().plot.bar()\n",
        "plt.title(\"Features which has NuLL values\")"
      ],
      "metadata": {
        "execution": {
          "iopub.status.busy": "2021-12-24T18:02:40.005077Z",
          "iopub.execute_input": "2021-12-24T18:02:40.005868Z",
          "iopub.status.idle": "2021-12-24T18:02:40.40874Z",
          "shell.execute_reply.started": "2021-12-24T18:02:40.005826Z",
          "shell.execute_reply": "2021-12-24T18:02:40.407868Z"
        },
        "trusted": true,
        "id": "IkEvUfzSOIYB"
      },
      "execution_count": null,
      "outputs": []
    },
    {
      "cell_type": "code",
      "source": [
        "data.isnull().sum()"
      ],
      "metadata": {
        "execution": {
          "iopub.status.busy": "2021-12-24T18:02:40.700547Z",
          "iopub.execute_input": "2021-12-24T18:02:40.70082Z",
          "iopub.status.idle": "2021-12-24T18:02:40.746644Z",
          "shell.execute_reply.started": "2021-12-24T18:02:40.700789Z",
          "shell.execute_reply": "2021-12-24T18:02:40.745868Z"
        },
        "trusted": true,
        "id": "okcuOMGrOIYB"
      },
      "execution_count": null,
      "outputs": []
    },
    {
      "cell_type": "code",
      "source": [
        "#### Let's support which columns NUMERIC and which is OBJECT\n",
        "\n",
        "numeric_df = data.select_dtypes(include=['int64', 'float64'])\n",
        "object_df = data.select_dtypes(include=['object'])\n",
        "numeric_cols = numeric_df.columns\n",
        "object_cols = object_df.columns\n",
        "print('Numeric Columns: ')\n",
        "print(numeric_cols, '\\n')\n",
        "print('Object Columns: ')\n",
        "print(object_cols, '\\n')\n",
        "print('Number of Numeric Features: ', len(numeric_cols))\n",
        "print('Number of Object Features: ', len(object_cols))"
      ],
      "metadata": {
        "execution": {
          "iopub.status.busy": "2021-12-24T18:02:40.94935Z",
          "iopub.execute_input": "2021-12-24T18:02:40.950217Z",
          "iopub.status.idle": "2021-12-24T18:02:40.966175Z",
          "shell.execute_reply.started": "2021-12-24T18:02:40.950151Z",
          "shell.execute_reply": "2021-12-24T18:02:40.965237Z"
        },
        "trusted": true,
        "id": "C3v-2e5wOIYB"
      },
      "execution_count": null,
      "outputs": []
    },
    {
      "cell_type": "code",
      "source": [
        "object_df.head()"
      ],
      "metadata": {
        "execution": {
          "iopub.status.busy": "2021-12-24T18:02:41.180012Z",
          "iopub.execute_input": "2021-12-24T18:02:41.180325Z",
          "iopub.status.idle": "2021-12-24T18:02:41.190624Z",
          "shell.execute_reply.started": "2021-12-24T18:02:41.180292Z",
          "shell.execute_reply": "2021-12-24T18:02:41.190018Z"
        },
        "trusted": true,
        "id": "24SaRn8oOIYB"
      },
      "execution_count": null,
      "outputs": []
    },
    {
      "cell_type": "code",
      "source": [
        "#### Let's look at Oblect columns (Source Destination Protocol)\n",
        "\n",
        "figure(figsize=(12, 7), dpi=80)\n",
        "plt.barh(list(dict(data.src.value_counts()).keys()), dict(data.src.value_counts()).values(), color='lawngreen')\n",
        "\n",
        "for idx, val in enumerate(dict(data.src.value_counts()).values()):\n",
        "    plt.text(x = val, y = idx-0.2, s = str(val), color='r', size = 13)\n",
        "\n",
        "plt.xlabel('Number of Requests')\n",
        "plt.ylabel('IP addres of sender')\n",
        "plt.title('Number of all reqests')"
      ],
      "metadata": {
        "execution": {
          "iopub.status.busy": "2021-12-24T18:02:42.053304Z",
          "iopub.execute_input": "2021-12-24T18:02:42.053613Z",
          "iopub.status.idle": "2021-12-24T18:02:42.434781Z",
          "shell.execute_reply.started": "2021-12-24T18:02:42.05358Z",
          "shell.execute_reply": "2021-12-24T18:02:42.43393Z"
        },
        "trusted": true,
        "id": "w9lnA8WbOIYB"
      },
      "execution_count": null,
      "outputs": []
    },
    {
      "cell_type": "code",
      "source": [
        "figure(figsize=(12, 7), dpi=80)\n",
        "plt.barh(list(dict(data[data.label == 1].src.value_counts()).keys()), dict(data[data.label == 1].src.value_counts()).values(), color='blue')\n",
        "\n",
        "for idx, val in enumerate(dict(data[data.label == 1].src.value_counts()).values()):\n",
        "    plt.text(x = val, y = idx-0.2, s = str(val), color='r', size = 13)\n",
        "\n",
        "plt.xlabel('Number of Requests')\n",
        "plt.ylabel('IP addres of sender')\n",
        "plt.title('Number of Attack requests')"
      ],
      "metadata": {
        "execution": {
          "iopub.status.busy": "2021-12-24T18:02:42.45198Z",
          "iopub.execute_input": "2021-12-24T18:02:42.452476Z",
          "iopub.status.idle": "2021-12-24T18:02:42.821502Z",
          "shell.execute_reply.started": "2021-12-24T18:02:42.452437Z",
          "shell.execute_reply": "2021-12-24T18:02:42.820666Z"
        },
        "trusted": true,
        "id": "AhyvtvouOIYC"
      },
      "execution_count": null,
      "outputs": []
    },
    {
      "cell_type": "code",
      "source": [
        "figure(figsize=(12, 7), dpi=80)\n",
        "plt.barh(list(dict(data.src.value_counts()).keys()), dict(data.src.value_counts()).values(), color='lawngreen')\n",
        "plt.barh(list(dict(data[data.label == 1].src.value_counts()).keys()), dict(data[data.label == 1].src.value_counts()).values(), color='blue')\n",
        "\n",
        "for idx, val in enumerate(dict(data.src.value_counts()).values()):\n",
        "    plt.text(x = val, y = idx-0.2, s = str(val), color='r', size = 13)\n",
        "\n",
        "for idx, val in enumerate(dict(data[data.label == 1].src.value_counts()).values()):\n",
        "    plt.text(x = val, y = idx-0.2, s = str(val), color='w', size = 13)\n",
        "\n",
        "\n",
        "plt.xlabel('Number of Requests')\n",
        "plt.ylabel('IP addres of sender')\n",
        "plt.legend(['All','malicious'])\n",
        "plt.title('Number of requests from different IP adress')"
      ],
      "metadata": {
        "execution": {
          "iopub.status.busy": "2021-12-24T18:02:43.845864Z",
          "iopub.execute_input": "2021-12-24T18:02:43.846539Z",
          "iopub.status.idle": "2021-12-24T18:02:44.632469Z",
          "shell.execute_reply.started": "2021-12-24T18:02:43.846496Z",
          "shell.execute_reply": "2021-12-24T18:02:44.631841Z"
        },
        "trusted": true,
        "id": "SyNrA9igOIYC"
      },
      "execution_count": null,
      "outputs": []
    },
    {
      "cell_type": "code",
      "source": [
        "figure(figsize=(10, 6), dpi=80)\n",
        "plt.bar(list(dict(data.Protocol.value_counts()).keys()), dict(data.Protocol.value_counts()).values(), color='r')\n",
        "plt.bar(list(dict(data[data.label == 1].Protocol.value_counts()).keys()), dict(data[data.label == 1].Protocol.value_counts()).values(), color='b')\n",
        "\n",
        "plt.text(x = 0 - 0.15, y = 41321 + 200, s = str(41321), color='black', size=17)\n",
        "plt.text(x = 1 - 0.15, y = 33588 + 200, s = str(33588), color='black', size=17)\n",
        "plt.text(x = 2 - 0.15, y = 29436 + 200, s = str(29436), color='black', size=17)\n",
        "\n",
        "plt.text(x = 0 - 0.15, y = 9419 + 200, s = str(9419), color='w', size=17)\n",
        "plt.text(x = 1 - 0.15, y = 17499 + 200, s = str(17499), color='w', size=17)\n",
        "plt.text(x = 2 - 0.15, y = 13866 + 200, s = str(13866), color='w', size=17)\n",
        "\n",
        "plt.xlabel('Protocol')\n",
        "plt.ylabel('Count')\n",
        "plt.legend(['All', 'malicious'])\n",
        "plt.title('The number of requests from different protocols')"
      ],
      "metadata": {
        "execution": {
          "iopub.status.busy": "2021-12-24T18:02:47.148805Z",
          "iopub.execute_input": "2021-12-24T18:02:47.149235Z",
          "iopub.status.idle": "2021-12-24T18:02:47.470823Z",
          "shell.execute_reply.started": "2021-12-24T18:02:47.149202Z",
          "shell.execute_reply": "2021-12-24T18:02:47.469738Z"
        },
        "trusted": true,
        "id": "-3B75YbNOIYC"
      },
      "execution_count": null,
      "outputs": []
    },
    {
      "cell_type": "code",
      "source": [
        "df = data.copy()"
      ],
      "metadata": {
        "execution": {
          "iopub.status.busy": "2021-12-24T18:02:51.605053Z",
          "iopub.execute_input": "2021-12-24T18:02:51.605828Z",
          "iopub.status.idle": "2021-12-24T18:02:51.619963Z",
          "shell.execute_reply.started": "2021-12-24T18:02:51.605786Z",
          "shell.execute_reply": "2021-12-24T18:02:51.619115Z"
        },
        "trusted": true,
        "id": "YnIcSmaIOIYD"
      },
      "execution_count": null,
      "outputs": []
    },
    {
      "cell_type": "code",
      "source": [
        "figure(figsize=(8, 4), dpi=80)\n",
        "plt.hist(df.dur, bins=20, color='b')\n",
        "plt.title('Duration')\n",
        "plt.show()"
      ],
      "metadata": {
        "execution": {
          "iopub.status.busy": "2021-12-24T18:02:51.892944Z",
          "iopub.execute_input": "2021-12-24T18:02:51.893242Z",
          "iopub.status.idle": "2021-12-24T18:02:52.135722Z",
          "shell.execute_reply.started": "2021-12-24T18:02:51.893207Z",
          "shell.execute_reply": "2021-12-24T18:02:52.134912Z"
        },
        "trusted": true,
        "id": "2S2rQpWYOIYD"
      },
      "execution_count": null,
      "outputs": []
    },
    {
      "cell_type": "code",
      "source": [
        "figure(figsize=(8, 4), dpi=80)\n",
        "plt.hist(df.tx_bytes, bins=20, color='r')\n",
        "plt.title('TX_BYTES - Transmitted Bytes')\n",
        "plt.show()"
      ],
      "metadata": {
        "execution": {
          "iopub.status.busy": "2021-12-24T18:02:52.24402Z",
          "iopub.execute_input": "2021-12-24T18:02:52.244828Z",
          "iopub.status.idle": "2021-12-24T18:02:52.475329Z",
          "shell.execute_reply.started": "2021-12-24T18:02:52.244785Z",
          "shell.execute_reply": "2021-12-24T18:02:52.474744Z"
        },
        "trusted": true,
        "id": "Ix1_uMeFOIYD"
      },
      "execution_count": null,
      "outputs": []
    },
    {
      "cell_type": "code",
      "source": [
        "figure(figsize=(8, 4), dpi=80)\n",
        "plt.hist(df.tx_kbps, bins=10, color='g')\n",
        "plt.title('TX_KBPC')\n",
        "plt.show()"
      ],
      "metadata": {
        "execution": {
          "iopub.status.busy": "2021-12-24T18:02:52.740147Z",
          "iopub.execute_input": "2021-12-24T18:02:52.740571Z",
          "iopub.status.idle": "2021-12-24T18:02:52.947277Z",
          "shell.execute_reply.started": "2021-12-24T18:02:52.74054Z",
          "shell.execute_reply": "2021-12-24T18:02:52.945248Z"
        },
        "trusted": true,
        "id": "R8b4D1MTOIYD"
      },
      "execution_count": null,
      "outputs": []
    },
    {
      "cell_type": "code",
      "source": [
        "plt.hist(df.switch, bins=20, color='r')\n",
        "plt.title('SWITCH')\n",
        "plt.xlabel('SWITCH')\n",
        "plt.show()"
      ],
      "metadata": {
        "execution": {
          "iopub.status.busy": "2021-12-24T18:02:53.388093Z",
          "iopub.execute_input": "2021-12-24T18:02:53.388387Z",
          "iopub.status.idle": "2021-12-24T18:02:53.59902Z",
          "shell.execute_reply.started": "2021-12-24T18:02:53.388356Z",
          "shell.execute_reply": "2021-12-24T18:02:53.598405Z"
        },
        "trusted": true,
        "id": "C2oQOcfVOIYD"
      },
      "execution_count": null,
      "outputs": []
    },
    {
      "cell_type": "code",
      "source": [
        "plt.hist(df[df['label'] == 1].switch, bins=20, color='r')\n",
        "plt.title('SWITCH')\n",
        "plt.xlabel('SWITCH')\n",
        "plt.show()"
      ],
      "metadata": {
        "execution": {
          "iopub.status.busy": "2021-12-24T18:02:53.955551Z",
          "iopub.execute_input": "2021-12-24T18:02:53.955852Z",
          "iopub.status.idle": "2021-12-24T18:02:54.16953Z",
          "shell.execute_reply.started": "2021-12-24T18:02:53.955817Z",
          "shell.execute_reply": "2021-12-24T18:02:54.168649Z"
        },
        "trusted": true,
        "id": "_qb2YjtbOIYD"
      },
      "execution_count": null,
      "outputs": []
    },
    {
      "cell_type": "code",
      "source": [],
      "metadata": {
        "id": "CmZPZtEcOIYE"
      },
      "execution_count": null,
      "outputs": []
    },
    {
      "cell_type": "markdown",
      "source": [
        "#### II. Classical ML models"
      ],
      "metadata": {
        "id": "7SgUmozQOIYE"
      }
    },
    {
      "cell_type": "code",
      "source": [
        "\n",
        "class Model:\n",
        "    global y\n",
        "    def __init__(self, data):\n",
        "        self.data = data\n",
        "        X = preprocessing.StandardScaler().fit(self.data).transform(self.data)\n",
        "        self.X_train, self.X_test, self.y_train, self.y_test = train_test_split(X, y, random_state=42, test_size=0.3)\n",
        "\n",
        "    def LogisticRegression(self):\n",
        "        solvers = ['newton-cg', 'lbfgs', 'liblinear', 'sag', 'saga']\n",
        "\n",
        "        start_time = time.time()\n",
        "        results_lr = []\n",
        "        accuracy_list = []\n",
        "        for solver in solvers:\n",
        "            LR = LogisticRegression(C=0.03, solver=solver).fit(self.X_train, self.y_train)\n",
        "            predicted_lr = LR.predict(self.X_test)\n",
        "            accuracy_lr = accuracy_score(self.y_test, predicted_lr)\n",
        "            #print(\"Accuracy: %.2f%%\" % (accuracy_lr * 100.0))\n",
        "            #print('################################################################')\n",
        "            results_lr.append({'solver' : solver, 'accuracy': str(round(accuracy_lr * 100, 2)) + \"%\",\n",
        "                                  'Coefficients': {'W' : LR.coef_, 'b': LR.intercept_}})\n",
        "\n",
        "            accuracy_list.append(accuracy_lr)\n",
        "\n",
        "        solver_name = solvers[accuracy_list.index(max(accuracy_list))]\n",
        "        LR = LogisticRegression(C=0.03, solver=solver_name).fit(self.X_train,self.y_train)\n",
        "        predicted_lr = LR.predict(self.X_test)\n",
        "        accuracy_lr = accuracy_score(self.y_test, predicted_lr)\n",
        "        print(\"Accuracy: %.2f%%\" % (accuracy_lr * 100.0), '\\n')\n",
        "        print(\"########################################################################\")\n",
        "        print('Best solver is : ', solver_name)\n",
        "        print(\"########################################################################\")\n",
        "        print(classification_report(predicted_lr, self.y_test), '\\n')\n",
        "        print(\"########################################################################\")\n",
        "        print(\"--- %s seconds --- time for LogisticRegression\" % (time.time() - start_time))\n",
        "\n",
        "\n",
        "    def SupportVectorMachine(self):\n",
        "        start_time = time.time()\n",
        "        accuracy_list = []\n",
        "        result_svm = []\n",
        "        kernels = ['linear', 'poly','rbf', 'sigmoid']\n",
        "        #kernels = ['rbf']\n",
        "        for kernel in kernels:\n",
        "            SVM = svm.SVC(kernel=kernel).fit(self.X_train, self.y_train)\n",
        "            predicted_svm = SVM.predict(self.X_test)\n",
        "            accuracy_svm = accuracy_score(self.y_test, predicted_svm)\n",
        "            result_svm.append({\"kernel\" : kernel, \"accuracy\": f\"{round(accuracy_svm*100,2)}%\"})\n",
        "            print(\"Accuracy: %.2f%%\" % round((accuracy_svm * 100.0),2))\n",
        "            print('######################################################################')\n",
        "            accuracy_list.append(accuracy_svm)\n",
        "\n",
        "        kernel_name = kernels[accuracy_list.index(max(accuracy_list))]\n",
        "        SVM = svm.SVC(kernel=kernel_name).fit(self.X_train, self.y_train)\n",
        "        predicted_svm = SVM.predict(self.X_test)\n",
        "        accuracy_svm = accuracy_score(self.y_test, predicted_svm)\n",
        "        print(f\"Accuracy of SVM model {round(accuracy_svm,2)*100}%\", '\\n')\n",
        "        print(\"########################################################################\")\n",
        "        print('best kernel is : ', kernel_name)\n",
        "        print(\"########################################################################\")\n",
        "        print(classification_report(predicted_svm, self.y_test))\n",
        "        print(\"########################################################################\")\n",
        "        print(\"--- %s seconds ---\" % (time.time() - start_time))\n",
        "\n",
        "    def KNearetsNeighbor(self):\n",
        "        start_time = time.time()\n",
        "        Ks = 12\n",
        "        accuracy_knn = np.zeros((Ks-1))\n",
        "        std_acc = np.zeros((Ks-1))\n",
        "        #print(accuracy_knn)\n",
        "        for n in range(1,Ks):\n",
        "\n",
        "            #Train Model and Predict\n",
        "            neigh = KNeighborsClassifier(n_neighbors = n).fit(self.X_train,self.y_train)\n",
        "            yhat=neigh.predict(self.X_test)\n",
        "            accuracy_knn[n-1] = metrics.accuracy_score(self.y_test, yhat)\n",
        "\n",
        "\n",
        "            std_acc[n-1]=np.std(yhat==self.y_test)/np.sqrt(yhat.shape[0])\n",
        "\n",
        "        #print(accuracy_knn,'\\n\\n') # courseranyn ozinde tek osy gana jazylyp turdy\n",
        "        #print(std_acc)\n",
        "        #accuracy_knn[0] = 0\n",
        "        plt.figure(figsize=(10,6))\n",
        "        plt.plot(range(1,Ks),accuracy_knn,'g')\n",
        "        plt.fill_between(range(1,Ks),accuracy_knn - 1 * std_acc,accuracy_knn + 1 * std_acc, alpha=0.10)\n",
        "        plt.fill_between(range(1,Ks),accuracy_knn - 3 * std_acc,accuracy_knn + 3 * std_acc, alpha=0.10,color=\"green\")\n",
        "        plt.legend(('Accuracy ', '+/- 1xstd','+/- 3xstd'))\n",
        "        plt.ylabel('Accuracy ')\n",
        "        plt.xlabel('Number of Neighbors (K)')\n",
        "        plt.tight_layout()\n",
        "        plt.show()\n",
        "\n",
        "\n",
        "        knnc = KNeighborsClassifier()\n",
        "        knnc_search = GridSearchCV(knnc, param_grid={'n_neighbors': [3, 5, 10],\n",
        "                                             'weights': ['uniform', 'distance'],\n",
        "                                             'metric': ['euclidean', 'manhattan']},\n",
        "                           n_jobs=-1, cv=3, scoring='accuracy', verbose=2)\n",
        "\n",
        "        knnc_search.fit(self.X_train, self.y_train)\n",
        "        #print(knnc_search.best_params_)\n",
        "        #print(knnc_search.best_score_)\n",
        "        n_neighbors = knnc_search.best_params_['n_neighbors']\n",
        "        weights = knnc_search.best_params_['weights']\n",
        "        metric = knnc_search.best_params_['metric']\n",
        "        KNN = KNeighborsClassifier(n_neighbors=n_neighbors, metric=metric, weights=weights).fit(self.X_train,self.y_train)\n",
        "\n",
        "        predicted_knn = KNN.predict(self.X_test)\n",
        "        accuracy_knn = metrics.accuracy_score(self.y_test, predicted_knn)\n",
        "        print(f\"Accuracy of KNN model {round(accuracy_knn,2)*100}%\", '\\n')\n",
        "        print(\"########################################################################\")\n",
        "        print(classification_report(predicted_knn, self.y_test))\n",
        "        print(\"########################################################################\")\n",
        "        print(\"--- %s seconds ---\" % (time.time() - start_time))\n",
        "\n",
        "    def DecisionTree(self):\n",
        "        start_time = time.time()\n",
        "        tree = DecisionTreeClassifier()\n",
        "        dt_search = GridSearchCV(tree, param_grid={'criterion' : ['gini', 'entropy'],\n",
        "                                           'max_depth' : [2,3,4,5,6,7,8, 9, 10],\n",
        "                                           'max_leaf_nodes' : [2,3,4,5,6,7,8,9,10, 11]},\n",
        "                           n_jobs=-1, cv=5, scoring='accuracy', verbose=2)\n",
        "\n",
        "        dt_search.fit(self.X_train, self.y_train)\n",
        "\n",
        "        criterion = dt_search.best_params_['criterion']\n",
        "        max_depth = dt_search.best_params_['max_depth']\n",
        "        max_leaf_nodes = dt_search.best_params_['max_leaf_nodes']\n",
        "\n",
        "        dtree = DecisionTreeClassifier(criterion=criterion,\n",
        "                                       max_depth=max_depth,\n",
        "                                       max_leaf_nodes=max_leaf_nodes).fit(self.X_train, self.y_train)\n",
        "        predicted_dt = dtree.predict(self.X_test)\n",
        "        accuracy_dt = metrics.accuracy_score(self.y_test, predicted_dt)\n",
        "        print(f\"criterion: {criterion}, max depth: {max_depth}, max_leaf: {max_leaf_nodes}\")\n",
        "        print(f\"The Accuracy is : {round(accuracy_dt * 100,2)}%\")\n",
        "        print(\"########################################################################\")\n",
        "        print(classification_report(predicted_dt, self.y_test))\n",
        "        print(\"########################################################################\")\n",
        "\n",
        "        print(\"--- %s seconds ---\" % (time.time() - start_time))\n",
        "\n",
        "    def RandomForest(self):\n",
        "        start_time = time.time()\n",
        "        RF = RandomForestClassifier(criterion='gini',\n",
        "                                     n_estimators=500,\n",
        "                                     min_samples_split=10,\n",
        "                                     #min_samples_leaf=1,\n",
        "                                     max_features='auto',\n",
        "                                     oob_score=True,\n",
        "                                     random_state=1,\n",
        "                                     n_jobs=-1).fit(self.X_train, self.y_train)\n",
        "\n",
        "        predicted_rf = RF.predict(self.X_test)\n",
        "        svm_accuracy = accuracy_score(self.y_test, predicted_rf)\n",
        "        print(f\"Accuracy of RF is : {round(svm_accuracy*100,2)}%\", '\\n')\n",
        "        print(\"########################################################################\")\n",
        "        print(classification_report(predicted_rf, self.y_test))\n",
        "        print(\"########################################################################\")\n",
        "\n",
        "        print(\"--- %s seconds ---\" % (time.time() - start_time))\n",
        "\n",
        "\"\"\"\n",
        "Decision Tree works Well\n",
        "Suppert Vector Machine works well\n",
        "Logistic Regression works well\n",
        "KNN works well\n",
        "Random Forest works well\n",
        "\"\"\""
      ],
      "metadata": {
        "execution": {
          "iopub.status.busy": "2021-12-24T18:13:47.939697Z",
          "iopub.execute_input": "2021-12-24T18:13:47.940349Z",
          "iopub.status.idle": "2021-12-24T18:13:47.994031Z",
          "shell.execute_reply.started": "2021-12-24T18:13:47.940303Z",
          "shell.execute_reply": "2021-12-24T18:13:47.993453Z"
        },
        "trusted": true,
        "id": "WlAexOzeOIYE"
      },
      "execution_count": null,
      "outputs": []
    },
    {
      "cell_type": "code",
      "source": [],
      "metadata": {
        "id": "Zsx1vsIPOIYG"
      },
      "execution_count": null,
      "outputs": []
    },
    {
      "cell_type": "code",
      "source": [],
      "metadata": {
        "id": "7O5XjkDgOIYG"
      },
      "execution_count": null,
      "outputs": []
    },
    {
      "cell_type": "code",
      "source": [],
      "metadata": {
        "id": "bN9uXbABOIYH"
      },
      "execution_count": null,
      "outputs": []
    },
    {
      "cell_type": "markdown",
      "source": [
        "#### III .Prediction Without Feature Selection"
      ],
      "metadata": {
        "id": "Kf6jLYY-OIYH"
      }
    },
    {
      "cell_type": "markdown",
      "source": [
        "##### II-1. Data Preprocessing"
      ],
      "metadata": {
        "id": "wjAGXbZoOIYH"
      }
    },
    {
      "cell_type": "code",
      "source": [
        "df = data.copy()\n",
        "df = df.dropna()"
      ],
      "metadata": {
        "execution": {
          "iopub.status.busy": "2021-12-24T18:03:04.532209Z",
          "iopub.execute_input": "2021-12-24T18:03:04.532496Z",
          "iopub.status.idle": "2021-12-24T18:03:04.596027Z",
          "shell.execute_reply.started": "2021-12-24T18:03:04.532464Z",
          "shell.execute_reply": "2021-12-24T18:03:04.5952Z"
        },
        "trusted": true,
        "id": "x2UhzC36OIYH"
      },
      "execution_count": null,
      "outputs": []
    },
    {
      "cell_type": "code",
      "source": [
        "X = df.drop(['dt','src','dst','label'], axis=1)\n",
        "y = df.label"
      ],
      "metadata": {
        "execution": {
          "iopub.status.busy": "2021-12-24T18:03:06.501911Z",
          "iopub.execute_input": "2021-12-24T18:03:06.502228Z",
          "iopub.status.idle": "2021-12-24T18:03:06.512587Z",
          "shell.execute_reply.started": "2021-12-24T18:03:06.502188Z",
          "shell.execute_reply": "2021-12-24T18:03:06.511867Z"
        },
        "trusted": true,
        "id": "FHnSrS8pOIYH"
      },
      "execution_count": null,
      "outputs": []
    },
    {
      "cell_type": "code",
      "source": [
        "X = pd.get_dummies(X)"
      ],
      "metadata": {
        "execution": {
          "iopub.status.busy": "2021-12-24T18:03:07.92415Z",
          "iopub.execute_input": "2021-12-24T18:03:07.924779Z",
          "iopub.status.idle": "2021-12-24T18:03:07.962078Z",
          "shell.execute_reply.started": "2021-12-24T18:03:07.924732Z",
          "shell.execute_reply": "2021-12-24T18:03:07.961444Z"
        },
        "trusted": true,
        "id": "MjdcUOGwOIYH"
      },
      "execution_count": null,
      "outputs": []
    },
    {
      "cell_type": "code",
      "source": [
        "M = Model(X)"
      ],
      "metadata": {
        "execution": {
          "iopub.status.busy": "2021-12-24T18:14:08.745187Z",
          "iopub.execute_input": "2021-12-24T18:14:08.745494Z",
          "iopub.status.idle": "2021-12-24T18:14:08.830545Z",
          "shell.execute_reply.started": "2021-12-24T18:14:08.745461Z",
          "shell.execute_reply": "2021-12-24T18:14:08.829474Z"
        },
        "trusted": true,
        "id": "v5Y2KVUwOIYH"
      },
      "execution_count": null,
      "outputs": []
    },
    {
      "cell_type": "code",
      "source": [
        "## Logistic Regression(Without FS)\n",
        "M.LogisticRegression()"
      ],
      "metadata": {
        "execution": {
          "iopub.status.busy": "2021-12-24T18:03:11.364366Z",
          "iopub.execute_input": "2021-12-24T18:03:11.364648Z",
          "iopub.status.idle": "2021-12-24T18:03:16.879919Z",
          "shell.execute_reply.started": "2021-12-24T18:03:11.364616Z",
          "shell.execute_reply": "2021-12-24T18:03:16.879022Z"
        },
        "trusted": true,
        "id": "J04Musf5OIYO"
      },
      "execution_count": null,
      "outputs": []
    },
    {
      "cell_type": "code",
      "source": [],
      "metadata": {
        "id": "xwm8XMyWOIYP"
      },
      "execution_count": null,
      "outputs": []
    },
    {
      "cell_type": "code",
      "source": [],
      "metadata": {
        "id": "xdPpgZaUOIYP"
      },
      "execution_count": null,
      "outputs": []
    },
    {
      "cell_type": "code",
      "source": [],
      "metadata": {
        "id": "IgcMJLmIOIYP"
      },
      "execution_count": null,
      "outputs": []
    },
    {
      "cell_type": "code",
      "source": [
        "## Support Vector Machine(Without FS)\n",
        "M.SupportVectorMachine()"
      ],
      "metadata": {
        "id": "7oFM_4IsOIYP"
      },
      "execution_count": null,
      "outputs": []
    },
    {
      "cell_type": "code",
      "source": [
        "## Decision Tree(Without FS)\n",
        "M.DecisionTree()"
      ],
      "metadata": {
        "execution": {
          "iopub.status.busy": "2021-12-24T18:08:13.815829Z",
          "iopub.execute_input": "2021-12-24T18:08:13.816172Z",
          "iopub.status.idle": "2021-12-24T18:09:36.726539Z",
          "shell.execute_reply.started": "2021-12-24T18:08:13.816126Z",
          "shell.execute_reply": "2021-12-24T18:09:36.725535Z"
        },
        "trusted": true,
        "id": "pqHj55eiOIYP"
      },
      "execution_count": null,
      "outputs": []
    },
    {
      "cell_type": "code",
      "source": [],
      "metadata": {
        "id": "0kFs-qzQOIYP"
      },
      "execution_count": null,
      "outputs": []
    },
    {
      "cell_type": "code",
      "source": [
        "## Random Forest Classification(Without FS)\n",
        "M.RandomForest()"
      ],
      "metadata": {
        "id": "cAvyLWFGOIYP"
      },
      "execution_count": null,
      "outputs": []
    },
    {
      "cell_type": "code",
      "source": [
        "M.KNearetsNeighbor()"
      ],
      "metadata": {
        "execution": {
          "iopub.status.busy": "2021-12-24T18:14:16.531142Z",
          "iopub.execute_input": "2021-12-24T18:14:16.531758Z",
          "iopub.status.idle": "2021-12-24T18:18:04.51762Z",
          "shell.execute_reply.started": "2021-12-24T18:14:16.531716Z",
          "shell.execute_reply": "2021-12-24T18:18:04.516675Z"
        },
        "trusted": true,
        "id": "bmL_lPlLOIYP"
      },
      "execution_count": null,
      "outputs": []
    },
    {
      "cell_type": "code",
      "source": [],
      "metadata": {
        "id": "elRyV4u7OIYP"
      },
      "execution_count": null,
      "outputs": []
    },
    {
      "cell_type": "markdown",
      "source": [
        "#### IV .Prediction With Feature Selection"
      ],
      "metadata": {
        "id": "-FLp3V8tOIYP"
      }
    },
    {
      "cell_type": "code",
      "source": [
        "df1 = data.copy()"
      ],
      "metadata": {
        "id": "u5sKUtQ0OIYP"
      },
      "execution_count": null,
      "outputs": []
    },
    {
      "cell_type": "code",
      "source": [
        "df1 = df1.dropna()"
      ],
      "metadata": {
        "id": "VMU7D_NvOIYP"
      },
      "execution_count": null,
      "outputs": []
    },
    {
      "cell_type": "code",
      "source": [
        "df1.columns"
      ],
      "metadata": {
        "id": "uGJi997_OIYP"
      },
      "execution_count": null,
      "outputs": []
    },
    {
      "cell_type": "code",
      "source": [
        "df1.info()"
      ],
      "metadata": {
        "id": "ec_w8yfoOIYQ"
      },
      "execution_count": null,
      "outputs": []
    },
    {
      "cell_type": "markdown",
      "source": [
        "##### https://www.mdpi.com/2079-9292/10/11/1227/pdf\n",
        "##### So, I will use the Feature Selection result of this paper"
      ],
      "metadata": {
        "id": "6kJrDOHCOIYQ"
      }
    },
    {
      "cell_type": "code",
      "source": [
        "important_features = [\n",
        "    'src',\n",
        "    'pktcount',\n",
        "    'dst',\n",
        "    'byteperflow',\n",
        "    'pktperflow',\n",
        "    'pktrate',\n",
        "    'tot_kbps',\n",
        "    'rx_kbps',\n",
        "    'flows',\n",
        "    'bytecount',\n",
        "    'dt',\n",
        "    'Protocol',\n",
        "    'dur',\n",
        "    'tot_dur'\n",
        "\n",
        "                     ]\n",
        "\n",
        "\n",
        "weights = [\n",
        "    17.87,\n",
        "    15.16,\n",
        "    13.64,\n",
        "    12.97,\n",
        "    11.35,\n",
        "    11.35,\n",
        "    9.68,\n",
        "    9.66,\n",
        "    8.95,\n",
        "    4.92,\n",
        "    2.33,\n",
        "    1.31,\n",
        "    1.11,\n",
        "    1.11\n",
        "]"
      ],
      "metadata": {
        "id": "lktqU1ypOIYQ"
      },
      "execution_count": null,
      "outputs": []
    },
    {
      "cell_type": "code",
      "source": [
        "weighted_features = pd.DataFrame({'features':important_features,\n",
        "                                 'weights':weights})\n",
        "weighted_features"
      ],
      "metadata": {
        "id": "mIHlpiYUOIYQ"
      },
      "execution_count": null,
      "outputs": []
    },
    {
      "cell_type": "code",
      "source": [
        "### But we dont need src, dst, dt, So, we will drop them\n",
        "X = df1[important_features]\n",
        "y = df1.label\n",
        "\n",
        "X = X.drop(['src', 'dst', 'dt'], axis=1)"
      ],
      "metadata": {
        "id": "dnFPbN79OIYQ"
      },
      "execution_count": null,
      "outputs": []
    },
    {
      "cell_type": "code",
      "source": [
        "X.head()"
      ],
      "metadata": {
        "id": "YNxjoFf2OIYQ"
      },
      "execution_count": null,
      "outputs": []
    },
    {
      "cell_type": "code",
      "source": [
        "abs(X.corr())"
      ],
      "metadata": {
        "id": "UYMx8qqtOIYQ"
      },
      "execution_count": null,
      "outputs": []
    },
    {
      "cell_type": "code",
      "source": [
        "fig, ax = plt.subplots(figsize=(10,7))\n",
        "sns.heatmap(abs(X.corr()), annot=True)"
      ],
      "metadata": {
        "id": "xralV2DfOIYQ"
      },
      "execution_count": null,
      "outputs": []
    },
    {
      "cell_type": "code",
      "source": [
        "### There some duplicated features and high correlated features"
      ],
      "metadata": {
        "id": "DaL58DCyOIYQ"
      },
      "execution_count": null,
      "outputs": []
    },
    {
      "cell_type": "code",
      "source": [
        "## \"dur\" and \"tot_dur\"\n",
        "## \"pktperflow\" and \"pktrate\"\n",
        "\n",
        "X = X.drop(['dur', \"pktrate\", \"pktperflow\"], axis=1)"
      ],
      "metadata": {
        "id": "shR4cLgPOIYQ"
      },
      "execution_count": null,
      "outputs": []
    },
    {
      "cell_type": "code",
      "source": [
        "X.columns"
      ],
      "metadata": {
        "id": "NqH3WwqqOIYQ"
      },
      "execution_count": null,
      "outputs": []
    },
    {
      "cell_type": "code",
      "source": [
        "fig, ax = plt.subplots(figsize=(10,7))\n",
        "sns.heatmap(abs(X.corr()), annot=True)"
      ],
      "metadata": {
        "id": "xRJT-aOxOIYQ"
      },
      "execution_count": null,
      "outputs": []
    },
    {
      "cell_type": "code",
      "source": [
        "X = pd.get_dummies(X)"
      ],
      "metadata": {
        "id": "CyHea-OhOIYQ"
      },
      "execution_count": null,
      "outputs": []
    },
    {
      "cell_type": "code",
      "source": [
        "M = Model(X)"
      ],
      "metadata": {
        "id": "Q878G7dzOIYQ"
      },
      "execution_count": null,
      "outputs": []
    },
    {
      "cell_type": "code",
      "source": [
        "## Logistic Regression(With FS)\n",
        "M.LogisticRegression()"
      ],
      "metadata": {
        "id": "ZfGS6RcAOIYQ"
      },
      "execution_count": null,
      "outputs": []
    },
    {
      "cell_type": "code",
      "source": [
        "## Support Vector Machine\n",
        "M.SupportVectorMachine()"
      ],
      "metadata": {
        "id": "-tdHIwXfOIYQ"
      },
      "execution_count": null,
      "outputs": []
    },
    {
      "cell_type": "code",
      "source": [],
      "metadata": {
        "id": "kiBmxzkSOIYQ"
      },
      "execution_count": null,
      "outputs": []
    },
    {
      "cell_type": "code",
      "source": [
        "M.RandomForest()"
      ],
      "metadata": {
        "id": "ZX2qOr1MOIYR"
      },
      "execution_count": null,
      "outputs": []
    },
    {
      "cell_type": "code",
      "source": [],
      "metadata": {
        "id": "NMoW7SnKOIYR"
      },
      "execution_count": null,
      "outputs": []
    },
    {
      "cell_type": "code",
      "source": [
        "M.DecisionTree()"
      ],
      "metadata": {
        "id": "HwKQDh-GOIYR"
      },
      "execution_count": null,
      "outputs": []
    },
    {
      "cell_type": "code",
      "source": [],
      "metadata": {
        "id": "Hwom2RgNOIYR"
      },
      "execution_count": null,
      "outputs": []
    }
  ]
}